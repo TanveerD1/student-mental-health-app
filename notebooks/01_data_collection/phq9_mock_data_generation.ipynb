{
 "cells": [
  {
   "cell_type": "markdown",
   "id": "0cf3baa5",
   "metadata": {},
   "source": [
    "# PHQ-9 Mock Data Generation\n",
    "## Creating synthetic depression screening data for model development\n",
    "\n",
    "This notebook generates mock PHQ-9 (Patient Health Questionnaire-9) data that mimics real student responses for mental health screening."
   ]
  },
  {
   "cell_type": "markdown",
   "id": "f006888e",
   "metadata": {},
   "source": [
    "### Understanding PHQ-9\n",
    "\n",
    "**PHQ-9 Questions** (0-3 scale for each):\n",
    "1. Little interest or pleasure in doing things\n",
    "2. Feeling down, depressed, or hopeless\n",
    "3. Trouble falling/staying asleep, or sleeping too much\n",
    "4. Feeling tired or having little energy\n",
    "5. Poor appetite or overeating\n",
    "6. Feeling bad about yourself - or that you are a failure\n",
    "7. Trouble concentrating on things\n",
    "8. Moving/speaking so slowly/fast that others noticed\n",
    "9. Thoughts that you would be better off dead\n",
    "\n",
    "**Scoring & Severity Levels:**\n",
    "- 0-4: Minimal depression\n",
    "- 5-9: Mild depression  \n",
    "- 10-14: Moderate depression\n",
    "- 15-19: Moderately severe depression\n",
    "- 20-27: Severe depression"
   ]
  },
  {
   "cell_type": "code",
   "execution_count": 1,
   "id": "16544dcd",
   "metadata": {},
   "outputs": [
    {
     "name": "stdout",
     "output_type": "stream",
     "text": [
      "✅ Libraries imported successfully!\n"
     ]
    }
   ],
   "source": [
    "# Import necessary libraries\n",
    "import pandas as pd\n",
    "import numpy as np\n",
    "from datetime import datetime, timedelta\n",
    "import random\n",
    "from sklearn.preprocessing import LabelEncoder\n",
    "import matplotlib.pyplot as plt\n",
    "import seaborn as sns\n",
    "import os\n",
    "\n",
    "# Set random seed for reproducibility (so we get the same results every time)\n",
    "np.random.seed(42)\n",
    "random.seed(42)\n",
    "\n",
    "print(\"✅ Libraries imported successfully!\")"
   ]
  },
  {
   "cell_type": "markdown",
   "id": "1127a18b",
   "metadata": {},
   "source": [
    "### Defining PHQ-9 Questions"
   ]
  },
  {
   "cell_type": "code",
   "execution_count": 2,
   "id": "949f2554",
   "metadata": {},
   "outputs": [
    {
     "name": "stdout",
     "output_type": "stream",
     "text": [
      "PHQ-9 Questions:\n",
      "1. Little interest or pleasure in doing things\n",
      "2. Feeling down, depressed, or hopeless\n",
      "3. Trouble falling/staying asleep, or sleeping too much\n",
      "4. Feeling tired or having little energy\n",
      "5. Poor appetite or overeating\n",
      "6. Feeling bad about yourself - or that you are a failure\n",
      "7. Trouble concentrating on things\n",
      "8. Moving/speaking so slowly/fast that others noticed\n",
      "9. Thoughts that you would be better off dead\n"
     ]
    }
   ],
   "source": [
    "# List of all PHQ-9 questions\n",
    "phq9_questions = [\n",
    "    \"Little interest or pleasure in doing things\",\n",
    "    \"Feeling down, depressed, or hopeless\",\n",
    "    \"Trouble falling/staying asleep, or sleeping too much\",\n",
    "    \"Feeling tired or having little energy\",\n",
    "    \"Poor appetite or overeating\",\n",
    "    \"Feeling bad about yourself - or that you are a failure\",\n",
    "    \"Trouble concentrating on things\",\n",
    "    \"Moving/speaking so slowly/fast that others noticed\",\n",
    "    \"Thoughts that you would be better off dead\"\n",
    "]\n",
    "\n",
    "print(\"PHQ-9 Questions:\")\n",
    "for i, question in enumerate(phq9_questions, 1):\n",
    "    print(f\"{i}. {question}\")"
   ]
  },
  {
   "cell_type": "markdown",
   "id": "6cff0eef",
   "metadata": {},
   "source": [
    "### Generating Mock Data"
   ]
  },
  {
   "cell_type": "code",
   "execution_count": 3,
   "id": "a26058fc",
   "metadata": {},
   "outputs": [
    {
     "name": "stdout",
     "output_type": "stream",
     "text": [
      "✅ Generated 1000 mock PHQ-9 samples\n"
     ]
    },
    {
     "data": {
      "application/vnd.microsoft.datawrangler.viewer.v0+json": {
       "columns": [
        {
         "name": "index",
         "rawType": "int64",
         "type": "integer"
        },
        {
         "name": "user_id",
         "rawType": "object",
         "type": "string"
        },
        {
         "name": "timestamp",
         "rawType": "datetime64[ns]",
         "type": "datetime"
        },
        {
         "name": "total_score",
         "rawType": "int64",
         "type": "integer"
        },
        {
         "name": "severity",
         "rawType": "object",
         "type": "string"
        },
        {
         "name": "q1",
         "rawType": "int64",
         "type": "integer"
        },
        {
         "name": "q2",
         "rawType": "int64",
         "type": "integer"
        },
        {
         "name": "q3",
         "rawType": "int64",
         "type": "integer"
        },
        {
         "name": "q4",
         "rawType": "int64",
         "type": "integer"
        },
        {
         "name": "q5",
         "rawType": "int64",
         "type": "integer"
        },
        {
         "name": "q6",
         "rawType": "int64",
         "type": "integer"
        },
        {
         "name": "q7",
         "rawType": "int64",
         "type": "integer"
        },
        {
         "name": "q8",
         "rawType": "int64",
         "type": "integer"
        },
        {
         "name": "q9",
         "rawType": "int64",
         "type": "integer"
        }
       ],
       "ref": "54df35ee-d6fd-47a2-9bde-583bbaff6304",
       "rows": [
        [
         "0",
         "user_0000",
         "2024-09-28 08:57:01.918764",
         "7",
         "Mild",
         "0",
         "0",
         "1",
         "2",
         "0",
         "2",
         "0",
         "1",
         "1"
        ],
        [
         "1",
         "user_0001",
         "2024-08-27 08:57:01.919233",
         "22",
         "Severe",
         "2",
         "2",
         "2",
         "2",
         "2",
         "3",
         "3",
         "3",
         "3"
        ],
        [
         "2",
         "user_0002",
         "2025-07-30 08:57:01.919275",
         "22",
         "Severe",
         "2",
         "3",
         "2",
         "3",
         "2",
         "2",
         "2",
         "3",
         "3"
        ],
        [
         "3",
         "user_0003",
         "2025-01-01 08:57:01.919307",
         "21",
         "Severe",
         "2",
         "2",
         "2",
         "3",
         "3",
         "3",
         "1",
         "3",
         "2"
        ],
        [
         "4",
         "user_0004",
         "2025-07-24 08:57:01.919339",
         "14",
         "Moderate",
         "3",
         "2",
         "0",
         "1",
         "1",
         "0",
         "3",
         "2",
         "2"
        ]
       ],
       "shape": {
        "columns": 13,
        "rows": 5
       }
      },
      "text/html": [
       "<div>\n",
       "<style scoped>\n",
       "    .dataframe tbody tr th:only-of-type {\n",
       "        vertical-align: middle;\n",
       "    }\n",
       "\n",
       "    .dataframe tbody tr th {\n",
       "        vertical-align: top;\n",
       "    }\n",
       "\n",
       "    .dataframe thead th {\n",
       "        text-align: right;\n",
       "    }\n",
       "</style>\n",
       "<table border=\"1\" class=\"dataframe\">\n",
       "  <thead>\n",
       "    <tr style=\"text-align: right;\">\n",
       "      <th></th>\n",
       "      <th>user_id</th>\n",
       "      <th>timestamp</th>\n",
       "      <th>total_score</th>\n",
       "      <th>severity</th>\n",
       "      <th>q1</th>\n",
       "      <th>q2</th>\n",
       "      <th>q3</th>\n",
       "      <th>q4</th>\n",
       "      <th>q5</th>\n",
       "      <th>q6</th>\n",
       "      <th>q7</th>\n",
       "      <th>q8</th>\n",
       "      <th>q9</th>\n",
       "    </tr>\n",
       "  </thead>\n",
       "  <tbody>\n",
       "    <tr>\n",
       "      <th>0</th>\n",
       "      <td>user_0000</td>\n",
       "      <td>2024-09-28 08:57:01.918764</td>\n",
       "      <td>7</td>\n",
       "      <td>Mild</td>\n",
       "      <td>0</td>\n",
       "      <td>0</td>\n",
       "      <td>1</td>\n",
       "      <td>2</td>\n",
       "      <td>0</td>\n",
       "      <td>2</td>\n",
       "      <td>0</td>\n",
       "      <td>1</td>\n",
       "      <td>1</td>\n",
       "    </tr>\n",
       "    <tr>\n",
       "      <th>1</th>\n",
       "      <td>user_0001</td>\n",
       "      <td>2024-08-27 08:57:01.919233</td>\n",
       "      <td>22</td>\n",
       "      <td>Severe</td>\n",
       "      <td>2</td>\n",
       "      <td>2</td>\n",
       "      <td>2</td>\n",
       "      <td>2</td>\n",
       "      <td>2</td>\n",
       "      <td>3</td>\n",
       "      <td>3</td>\n",
       "      <td>3</td>\n",
       "      <td>3</td>\n",
       "    </tr>\n",
       "    <tr>\n",
       "      <th>2</th>\n",
       "      <td>user_0002</td>\n",
       "      <td>2025-07-30 08:57:01.919275</td>\n",
       "      <td>22</td>\n",
       "      <td>Severe</td>\n",
       "      <td>2</td>\n",
       "      <td>3</td>\n",
       "      <td>2</td>\n",
       "      <td>3</td>\n",
       "      <td>2</td>\n",
       "      <td>2</td>\n",
       "      <td>2</td>\n",
       "      <td>3</td>\n",
       "      <td>3</td>\n",
       "    </tr>\n",
       "    <tr>\n",
       "      <th>3</th>\n",
       "      <td>user_0003</td>\n",
       "      <td>2025-01-01 08:57:01.919307</td>\n",
       "      <td>21</td>\n",
       "      <td>Severe</td>\n",
       "      <td>2</td>\n",
       "      <td>2</td>\n",
       "      <td>2</td>\n",
       "      <td>3</td>\n",
       "      <td>3</td>\n",
       "      <td>3</td>\n",
       "      <td>1</td>\n",
       "      <td>3</td>\n",
       "      <td>2</td>\n",
       "    </tr>\n",
       "    <tr>\n",
       "      <th>4</th>\n",
       "      <td>user_0004</td>\n",
       "      <td>2025-07-24 08:57:01.919339</td>\n",
       "      <td>14</td>\n",
       "      <td>Moderate</td>\n",
       "      <td>3</td>\n",
       "      <td>2</td>\n",
       "      <td>0</td>\n",
       "      <td>1</td>\n",
       "      <td>1</td>\n",
       "      <td>0</td>\n",
       "      <td>3</td>\n",
       "      <td>2</td>\n",
       "      <td>2</td>\n",
       "    </tr>\n",
       "  </tbody>\n",
       "</table>\n",
       "</div>"
      ],
      "text/plain": [
       "     user_id                  timestamp  total_score  severity  q1  q2  q3  \\\n",
       "0  user_0000 2024-09-28 08:57:01.918764            7      Mild   0   0   1   \n",
       "1  user_0001 2024-08-27 08:57:01.919233           22    Severe   2   2   2   \n",
       "2  user_0002 2025-07-30 08:57:01.919275           22    Severe   2   3   2   \n",
       "3  user_0003 2025-01-01 08:57:01.919307           21    Severe   2   2   2   \n",
       "4  user_0004 2025-07-24 08:57:01.919339           14  Moderate   3   2   0   \n",
       "\n",
       "   q4  q5  q6  q7  q8  q9  \n",
       "0   2   0   2   0   1   1  \n",
       "1   2   2   3   3   3   3  \n",
       "2   3   2   2   2   3   3  \n",
       "3   3   3   3   1   3   2  \n",
       "4   1   1   0   3   2   2  "
      ]
     },
     "execution_count": 3,
     "metadata": {},
     "output_type": "execute_result"
    }
   ],
   "source": [
    "def generate_phq9_data(num_samples=1000):\n",
    "    \"\"\"\n",
    "    Generate synthetic PHQ-9 data with realistic patterns\n",
    "    \"\"\"\n",
    "    data = []\n",
    "    \n",
    "    for i in range(num_samples):\n",
    "        # Generate a random user ID\n",
    "        user_id = f\"user_{i:04d}\"\n",
    "        \n",
    "        # Generate a timestamp within the last year\n",
    "        days_ago = random.randint(1, 365)\n",
    "        timestamp = datetime.now() - timedelta(days=days_ago)\n",
    "        \n",
    "        # Generate answers (0-3 for each question)\n",
    "        answers = []\n",
    "        \n",
    "        # Create realistic patterns based on severity\n",
    "        base_severity = random.choice(['minimal', 'mild', 'moderate', 'severe'])\n",
    "        \n",
    "        if base_severity == 'minimal':\n",
    "            # Mostly 0s and 1s (minimal depression)\n",
    "            answers = [random.choices([0, 1], weights=[0.7, 0.3])[0] for _ in range(9)]\n",
    "        elif base_severity == 'mild':\n",
    "            # Mostly 1s and 2s (mild depression)\n",
    "            answers = [random.choices([1, 2], weights=[0.6, 0.4])[0] for _ in range(9)]\n",
    "        elif base_severity == 'moderate':\n",
    "            # Mostly 2s with some 3s (moderate depression)\n",
    "            answers = [random.choices([2, 3], weights=[0.7, 0.3])[0] for _ in range(9)]\n",
    "        else:  # severe\n",
    "            # Mostly 3s (severe depression)\n",
    "            answers = [random.choices([2, 3], weights=[0.3, 0.7])[0] for _ in range(9)]\n",
    "        \n",
    "        # Add some random noise to make it more realistic\n",
    "        answers = [min(3, max(0, answer + random.randint(-1, 1))) for answer in answers]\n",
    "        \n",
    "        # Calculate total score (sum of all answers)\n",
    "        total_score = sum(answers)\n",
    "        \n",
    "        # Determine severity label based on total score\n",
    "        if total_score <= 4:\n",
    "            severity = \"Minimal\"\n",
    "        elif total_score <= 9:\n",
    "            severity = \"Mild\"\n",
    "        elif total_score <= 14:\n",
    "            severity = \"Moderate\"\n",
    "        elif total_score <= 19:\n",
    "            severity = \"Moderately Severe\"\n",
    "        else:\n",
    "            severity = \"Severe\"\n",
    "        \n",
    "        # Create a dictionary for this sample\n",
    "        sample = {\n",
    "            'user_id': user_id,\n",
    "            'timestamp': timestamp,\n",
    "            'total_score': total_score,\n",
    "            'severity': severity\n",
    "        }\n",
    "        \n",
    "        # Add individual question answers (q1, q2, ..., q9)\n",
    "        for j, answer in enumerate(answers):\n",
    "            sample[f'q{j+1}'] = answer\n",
    "        \n",
    "        data.append(sample)\n",
    "    \n",
    "    return pd.DataFrame(data)\n",
    "\n",
    "# Generate 1000 samples\n",
    "df_phq9 = generate_phq9_data(1000)\n",
    "print(f\"✅ Generated {len(df_phq9)} mock PHQ-9 samples\")\n",
    "df_phq9.head()"
   ]
  },
  {
   "cell_type": "markdown",
   "id": "8c93194e",
   "metadata": {},
   "source": [
    "### Data Exploration"
   ]
  },
  {
   "cell_type": "code",
   "execution_count": 4,
   "id": "f7086bfc",
   "metadata": {},
   "outputs": [
    {
     "name": "stdout",
     "output_type": "stream",
     "text": [
      "📊 Data Overview:\n",
      "Dataset shape: (1000, 13)\n",
      "\n",
      "📈 Severity Distribution:\n",
      "Severe               385\n",
      "Moderately Severe    192\n",
      "Mild                 161\n",
      "Moderate             156\n",
      "Minimal              106\n",
      "Name: severity, dtype: int64\n",
      "\n",
      "🔢 Summary Statistics:\n",
      "count    1000.000000\n",
      "mean       15.135000\n",
      "std         7.144496\n",
      "min         1.000000\n",
      "25%         9.000000\n",
      "50%        17.000000\n",
      "75%        21.000000\n",
      "max        26.000000\n",
      "Name: total_score, dtype: float64\n"
     ]
    }
   ],
   "source": [
    "print(\"📊 Data Overview:\")\n",
    "print(f\"Dataset shape: {df_phq9.shape}\")\n",
    "print(\"\\n📈 Severity Distribution:\")\n",
    "print(df_phq9['severity'].value_counts())\n",
    "\n",
    "print(\"\\n🔢 Summary Statistics:\")\n",
    "print(df_phq9['total_score'].describe())"
   ]
  },
  {
   "cell_type": "markdown",
   "id": "c85178d9",
   "metadata": {},
   "source": [
    "### Visualizing the data"
   ]
  },
  {
   "cell_type": "code",
   "execution_count": 5,
   "id": "11df76e5",
   "metadata": {},
   "outputs": [
    {
     "data": {
      "image/png": "[encoded data removed]",
      "text/plain": [
       "<Figure size 1500x500 with 3 Axes>"
      ]
     },
     "metadata": {},
     "output_type": "display_data"
    }
   ],
   "source": [
    "plt.figure(figsize=(15, 5))\n",
    "\n",
    "# Plot 1: Severity distribution\n",
    "plt.subplot(1, 3, 1)\n",
    "df_phq9['severity'].value_counts().plot(kind='bar', color='skyblue')\n",
    "plt.title('PHQ-9 Severity Distribution')\n",
    "plt.xticks(rotation=45)\n",
    "\n",
    "# Plot 2: Total score distribution\n",
    "plt.subplot(1, 3, 2)\n",
    "plt.hist(df_phq9['total_score'], bins=20, color='lightgreen', edgecolor='black')\n",
    "plt.title('PHQ-9 Total Score Distribution')\n",
    "plt.xlabel('Total Score')\n",
    "plt.ylabel('Frequency')\n",
    "\n",
    "# Plot 3: Average score per question\n",
    "plt.subplot(1, 3, 3)\n",
    "question_columns = [f'q{i}' for i in range(1, 10)]\n",
    "avg_scores = df_phq9[question_columns].mean()\n",
    "avg_scores.plot(kind='bar', color='orange')\n",
    "plt.title('Average Score per Question')\n",
    "plt.xticks(rotation=45)\n",
    "\n",
    "plt.tight_layout()\n",
    "plt.show()"
   ]
  },
  {
   "cell_type": "markdown",
   "id": "27758a12",
   "metadata": {},
   "source": [
    "### Saving the Data\n"
   ]
  },
  {
   "cell_type": "code",
   "execution_count": 6,
   "id": "92d37ad1",
   "metadata": {},
   "outputs": [
    {
     "name": "stdout",
     "output_type": "stream",
     "text": [
      "💾 Raw data saved to: data/raw/phq9_mock_data.csv\n",
      "💾 Processed data saved to: data/processed/phq9_processed_data.csv\n",
      "\n",
      "🎉 Mock data generation complete! Ready for EDA and modeling.\n"
     ]
    }
   ],
   "source": [
    "# Create data directories if they don't exist\n",
    "os.makedirs('data/raw', exist_ok=True)\n",
    "os.makedirs('data/processed', exist_ok=True)\n",
    "\n",
    "# Save raw data\n",
    "raw_filepath = 'data/raw/phq9_mock_data.csv'\n",
    "df_phq9.to_csv(raw_filepath, index=False)\n",
    "print(f\"💾 Raw data saved to: {raw_filepath}\")\n",
    "\n",
    "# Create a processed version with encoded labels (for machine learning)\n",
    "df_processed = df_phq9.copy()\n",
    "\n",
    "# Encode severity labels to numbers (Minimal=0, Mild=1, etc.)\n",
    "le = LabelEncoder()\n",
    "df_processed['severity_encoded'] = le.fit_transform(df_processed['severity'])\n",
    "\n",
    "# Save processed data\n",
    "processed_filepath = 'data/processed/phq9_processed_data.csv'\n",
    "df_processed.to_csv(processed_filepath, index=False)\n",
    "print(f\"💾 Processed data saved to: {processed_filepath}\")\n",
    "\n",
    "print(\"\\n🎉 Mock data generation complete! Ready for EDA and modeling.\")"
   ]
  }
 ],
 "metadata": {
  "kernelspec": {
   "display_name": "base",
   "language": "python",
   "name": "python3"
  },
  "language_info": {
   "codemirror_mode": {
    "name": "ipython",
    "version": 3
   },
   "file_extension": ".py",
   "mimetype": "text/x-python",
   "name": "python",
   "nbconvert_exporter": "python",
   "pygments_lexer": "ipython3",
   "version": "3.11.5"
  }
 },
 "nbformat": 4,
 "nbformat_minor": 5
}
